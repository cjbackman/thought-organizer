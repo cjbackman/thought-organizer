{
 "cells": [
  {
   "cell_type": "markdown",
   "id": "82f2e76c-91d7-4395-959b-063d4af940e0",
   "metadata": {},
   "source": [
    "# Thought Organizer"
   ]
  },
  {
   "cell_type": "code",
   "execution_count": 58,
   "id": "c5282305-bca7-4667-8c36-f915945af9f5",
   "metadata": {},
   "outputs": [],
   "source": [
    "import configparser\n",
    "from typing import List\n",
    "from io import StringIO\n",
    "\n",
    "from openai import OpenAI\n",
    "import pandas as pd"
   ]
  },
  {
   "cell_type": "markdown",
   "id": "6114db5d-6e67-4aa8-ba25-0d5808ca104f",
   "metadata": {},
   "source": [
    "## Tags"
   ]
  },
  {
   "cell_type": "markdown",
   "id": "7abfed1b-a11d-440a-85e4-279e105b1c53",
   "metadata": {},
   "source": [
    "### Helpers"
   ]
  },
  {
   "cell_type": "code",
   "execution_count": 63,
   "id": "cea642ed-2774-49e6-a8c3-8978171dc724",
   "metadata": {},
   "outputs": [],
   "source": [
    "def load_cards(filename: str) -> pd.DataFrame:\n",
    "    return pd.read_csv(filename)\n",
    "\n",
    "def csv_to_dataframe(csv: str, sep: str = \";\"):\n",
    "    stream = StringIO(csv)\n",
    "    return pd.read_csv(stream, sep=sep)\n",
    "\n",
    "def select_decks(\n",
    "    cards: pd.DataFrame,\n",
    "    deck_column: str = \"decks\",\n",
    "    decks: List[str] = None,\n",
    ") -> pd.DataFrame:\n",
    "    if decks is None:\n",
    "        return cards\n",
    "    if not isinstance(decks, list):\n",
    "        raise ValueError(f\"Wrong type for decks: {type(decks)}. Expected List.\")\n",
    "                         \n",
    "    valid_rows = cards[deck_column].isin(decks)\n",
    "    return cards[valid_rows]\n",
    "\n",
    "def generate_tags(\n",
    "    client: OpenAI,\n",
    "    cards: pd.DataFrame,\n",
    ") -> str:\n",
    "\n",
    "    MAX_NO_TAGS = 3\n",
    "    TEXT_COLUMNS = \"front,back,tags\"\n",
    "    NEW_COLUMN = \"new_tags\"\n",
    "    prompt = f\"\"\"Below is a csv where a row represents the front and back of a virtual quiz card.\n",
    "             Each card has a set of tags associated with it, and some other metadata.\n",
    "             \n",
    "             Please revise the existing tags, based on the text in the columns {TEXT_COLUMNS}.\n",
    "             \n",
    "             Strive for generic tags, using standard and well established terms.\n",
    "             Try to keep a low number of unique tags.\n",
    "             Each card can have a maximum of {MAX_NO_TAGS} tags.\n",
    "             Merge similar tags.\n",
    "             \n",
    "             The output should be the same csv, with an additional column '{NEW_COLUMN}'.\n",
    "             '{NEW_COLUMN}' should contain your suggestions.\n",
    "             The response should not contain any text except the csv.\n",
    "\n",
    "             ---\n",
    "\n",
    "             {cards.to_csv(index=False, sep=\";\")}\n",
    "             \"\"\"\n",
    "    MODEL = \"gpt-3.5-turbo-16k\"\n",
    "    response = client.chat.completions.create(\n",
    "        model=MODEL,\n",
    "        messages=[\n",
    "            {\"role\": \"user\", \"content\": prompt},\n",
    "        ],\n",
    "    )\n",
    "    MESSAGE = 0\n",
    "    return response.choices[MESSAGE].message.content\n",
    "\n",
    "def process_cards(input_filename: str, output_filename: str) -> None:\n",
    "    df_cards = load_cards(input_filename)    \n",
    "    df_cards_new_tags = generate_tags(df_cards)\n",
    "    # df_with_tags.to_csv(output_filename, index=False)\n",
    "    # print(f\"File saved to {output_filename}\")"
   ]
  },
  {
   "cell_type": "markdown",
   "id": "89087dd7-071b-4b83-9ffa-1a3ffc7473aa",
   "metadata": {},
   "source": [
    "## Main"
   ]
  },
  {
   "cell_type": "code",
   "execution_count": 64,
   "id": "28f0f22e-3554-4c3f-aa82-108a810e05f9",
   "metadata": {},
   "outputs": [],
   "source": [
    "config = configparser.ConfigParser()\n",
    "config.read(\"config.ini\")\n",
    "\n",
    "openai_client = OpenAI(\n",
    "    api_key=config[\"OpenAI\"][\"API_KEY\"],\n",
    ")\n",
    "\n",
    "input_filename: str = config[\"Files\"][\"INPUT_FILE\"]"
   ]
  },
  {
   "cell_type": "code",
   "execution_count": 65,
   "id": "b68dff7f-2f9d-4199-b9d8-0226dd9215a0",
   "metadata": {},
   "outputs": [
    {
     "data": {
      "text/html": [
       "<div>\n",
       "<style scoped>\n",
       "    .dataframe tbody tr th:only-of-type {\n",
       "        vertical-align: middle;\n",
       "    }\n",
       "\n",
       "    .dataframe tbody tr th {\n",
       "        vertical-align: top;\n",
       "    }\n",
       "\n",
       "    .dataframe thead th {\n",
       "        text-align: right;\n",
       "    }\n",
       "</style>\n",
       "<table border=\"1\" class=\"dataframe\">\n",
       "  <thead>\n",
       "    <tr style=\"text-align: right;\">\n",
       "      <th></th>\n",
       "      <th>front</th>\n",
       "      <th>back</th>\n",
       "      <th>tags</th>\n",
       "      <th>sources</th>\n",
       "      <th>decks</th>\n",
       "      <th>id</th>\n",
       "    </tr>\n",
       "  </thead>\n",
       "  <tbody>\n",
       "    <tr>\n",
       "      <th>0</th>\n",
       "      <td>What are three good practices to design for *t...</td>\n",
       "      <td>* Modular design\\n* Use of interfaces\\n* Depen...</td>\n",
       "      <td>testability</td>\n",
       "      <td>https://www.codereliant.io/making-software-rel...</td>\n",
       "      <td>Software Architecture</td>\n",
       "      <td>OW2tfrufw32pG18zT0mv</td>\n",
       "    </tr>\n",
       "    <tr>\n",
       "      <th>1</th>\n",
       "      <td>What strategies can help us aspire toward euda...</td>\n",
       "      <td>* Know your values and aspire to live a value-...</td>\n",
       "      <td>eudaimonic happiness</td>\n",
       "      <td>https://positivepsychology.com/hedonic-vs-euda...</td>\n",
       "      <td>Wellbeing</td>\n",
       "      <td>d7M4BV1RcboL8AztnljO</td>\n",
       "    </tr>\n",
       "    <tr>\n",
       "      <th>2</th>\n",
       "      <td>What is *testability*?</td>\n",
       "      <td>How easily a software can be tested.</td>\n",
       "      <td>testability</td>\n",
       "      <td>https://www.codereliant.io/making-software-rel...</td>\n",
       "      <td>Software Architecture</td>\n",
       "      <td>ubHXLVPhdzOWaKLCWv82</td>\n",
       "    </tr>\n",
       "    <tr>\n",
       "      <th>3</th>\n",
       "      <td>What are \"tidyings\"?</td>\n",
       "      <td>Tidyings are a subset of refactorings. \\n\\nThe...</td>\n",
       "      <td>definition,tidyings</td>\n",
       "      <td>Tidy First?\\nBeck, Kent</td>\n",
       "      <td>Tidy First?</td>\n",
       "      <td>sFSx9aj5sgprh8SltBHB</td>\n",
       "    </tr>\n",
       "    <tr>\n",
       "      <th>4</th>\n",
       "      <td>What is the order of magnitude time wise when ...</td>\n",
       "      <td>Tidying is a minutes-to-an-hour kind of activi...</td>\n",
       "      <td>decision-making</td>\n",
       "      <td>Tidy First?\\nBeck, Kent</td>\n",
       "      <td>Tidy First?</td>\n",
       "      <td>vVwpzxqKFEdj67Lm8np6</td>\n",
       "    </tr>\n",
       "  </tbody>\n",
       "</table>\n",
       "</div>"
      ],
      "text/plain": [
       "                                               front  \\\n",
       "0  What are three good practices to design for *t...   \n",
       "1  What strategies can help us aspire toward euda...   \n",
       "2                             What is *testability*?   \n",
       "3                               What are \"tidyings\"?   \n",
       "4  What is the order of magnitude time wise when ...   \n",
       "\n",
       "                                                back                  tags  \\\n",
       "0  * Modular design\\n* Use of interfaces\\n* Depen...           testability   \n",
       "1  * Know your values and aspire to live a value-...  eudaimonic happiness   \n",
       "2               How easily a software can be tested.           testability   \n",
       "3  Tidyings are a subset of refactorings. \\n\\nThe...   definition,tidyings   \n",
       "4  Tidying is a minutes-to-an-hour kind of activi...       decision-making   \n",
       "\n",
       "                                             sources                  decks  \\\n",
       "0  https://www.codereliant.io/making-software-rel...  Software Architecture   \n",
       "1  https://positivepsychology.com/hedonic-vs-euda...              Wellbeing   \n",
       "2  https://www.codereliant.io/making-software-rel...  Software Architecture   \n",
       "3                            Tidy First?\\nBeck, Kent            Tidy First?   \n",
       "4                            Tidy First?\\nBeck, Kent            Tidy First?   \n",
       "\n",
       "                     id  \n",
       "0  OW2tfrufw32pG18zT0mv  \n",
       "1  d7M4BV1RcboL8AztnljO  \n",
       "2  ubHXLVPhdzOWaKLCWv82  \n",
       "3  sFSx9aj5sgprh8SltBHB  \n",
       "4  vVwpzxqKFEdj67Lm8np6  "
      ]
     },
     "execution_count": 65,
     "metadata": {},
     "output_type": "execute_result"
    }
   ],
   "source": [
    "df = load_cards(input_filename)\n",
    "df.head(5)"
   ]
  },
  {
   "cell_type": "code",
   "execution_count": 66,
   "id": "6019095b-5a98-42f6-ac64-490623afcecd",
   "metadata": {},
   "outputs": [],
   "source": [
    "df_selected_decks = select_decks(df, decks=[\"Tidy First?\"])"
   ]
  },
  {
   "cell_type": "code",
   "execution_count": 51,
   "id": "ba87bbe8-a9ec-43fd-ac9c-d3b2b0ec4391",
   "metadata": {},
   "outputs": [],
   "source": [
    "csv_string = generate_tags(openai_client, df_selected_decks)"
   ]
  },
  {
   "cell_type": "code",
   "execution_count": null,
   "id": "9b894c48-52da-4210-a672-227d6d1fb2d2",
   "metadata": {},
   "outputs": [],
   "source": [
    "df_new_tags = csv_to_dataframe(csv_string)"
   ]
  }
 ],
 "metadata": {
  "kernelspec": {
   "display_name": "Python 3 (ipykernel)",
   "language": "python",
   "name": "python3"
  },
  "language_info": {
   "codemirror_mode": {
    "name": "ipython",
    "version": 3
   },
   "file_extension": ".py",
   "mimetype": "text/x-python",
   "name": "python",
   "nbconvert_exporter": "python",
   "pygments_lexer": "ipython3",
   "version": "3.9.6"
  }
 },
 "nbformat": 4,
 "nbformat_minor": 5
}

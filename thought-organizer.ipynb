{
 "cells": [
  {
   "cell_type": "markdown",
   "id": "82f2e76c-91d7-4395-959b-063d4af940e0",
   "metadata": {},
   "source": [
    "# Thought Organizer"
   ]
  },
  {
   "cell_type": "code",
   "execution_count": 15,
   "id": "c5282305-bca7-4667-8c36-f915945af9f5",
   "metadata": {},
   "outputs": [],
   "source": [
    "import configparser\n",
    "from openai import OpenAI\n",
    "import pandas as pd\n",
    "from typing import List"
   ]
  },
  {
   "cell_type": "markdown",
   "id": "6114db5d-6e67-4aa8-ba25-0d5808ca104f",
   "metadata": {},
   "source": [
    "## Tags"
   ]
  },
  {
   "cell_type": "markdown",
   "id": "7abfed1b-a11d-440a-85e4-279e105b1c53",
   "metadata": {},
   "source": [
    "### Helpers"
   ]
  },
  {
   "cell_type": "code",
   "execution_count": 19,
   "id": "cea642ed-2774-49e6-a8c3-8978171dc724",
   "metadata": {},
   "outputs": [],
   "source": [
    "def load_csv(filename: str) -> pd.DataFrame:\n",
    "    return pd.read_csv(filename)\n",
    "\n",
    "def generate_tags(\n",
    "    client: OpenAI,\n",
    "    input_csv: pd.DataFrame,\n",
    ") -> pd.DataFrame:\n",
    "\n",
    "    MAX_NO_TAGS = 3\n",
    "    TEXT_COLUMNS = \"front,back\"\n",
    "    NEW_COLUMN = \"new_tags\"\n",
    "    prompt = f\"\"\"Below is a csv where a row represents the front and back of a virtual quiz card.\n",
    "             Each card has a set of tags associated with it, and some other metadata.\n",
    "             \n",
    "             Please revise the existing tags, based on the text in the columns {TEXT_COLUMNS}.\n",
    "             \n",
    "             Strive for generic tags and low total of unique tags.\n",
    "             Each card can have a maximum of {MAX_NO_TAGS} tags.\n",
    "             Merge similar tags.\n",
    "             \n",
    "             The output should be the same csv, with an additional column '{NEW_COLUMN}'.\n",
    "             '{NEW_COLUMN}' should contain your suggestions.\n",
    "             The response should not contain any text except the csv.\n",
    "\n",
    "             ---\n",
    "\n",
    "             {input_csv.to_csv(index=False)}\n",
    "             \"\"\"\n",
    "    \n",
    "    MODEL = \"gpt-3.5-turbo\"\n",
    "    response = client.chat.completions.create(\n",
    "        model=MODEL,\n",
    "        messages=[\n",
    "            {\"role\": \"user\", \"content\": prompt},\n",
    "        ],\n",
    "    )\n",
    "\n",
    "    MESSAGE = 0\n",
    "    return response.choices[MESSAGE]\n",
    "\n",
    "# Function to process CSV and add tags\n",
    "def process_csv(input_filename: str, output_filename: str) -> None:\n",
    "    df = load_csv(input_filename)    \n",
    "    df_with_tags = generate_tags(df)\n",
    "    # df_with_tags.to_csv(output_filename, index=False)\n",
    "    # print(f\"File saved to {output_filename}\")"
   ]
  },
  {
   "cell_type": "markdown",
   "id": "89087dd7-071b-4b83-9ffa-1a3ffc7473aa",
   "metadata": {},
   "source": [
    "## Main"
   ]
  },
  {
   "cell_type": "code",
   "execution_count": 25,
   "id": "28f0f22e-3554-4c3f-aa82-108a810e05f9",
   "metadata": {},
   "outputs": [],
   "source": [
    "config = configparser.ConfigParser()\n",
    "config.read(\"config.ini\")\n",
    "\n",
    "client = OpenAI(\n",
    "    api_key=config[\"OpenAI\"][\"API_KEY\"],\n",
    ")\n",
    "\n",
    "input_filename: str = config[\"Files\"][\"INPUT_FILE\"]\n",
    "\n",
    "df = load_csv(input_filename)"
   ]
  }
 ],
 "metadata": {
  "kernelspec": {
   "display_name": "Python 3 (ipykernel)",
   "language": "python",
   "name": "python3"
  },
  "language_info": {
   "codemirror_mode": {
    "name": "ipython",
    "version": 3
   },
   "file_extension": ".py",
   "mimetype": "text/x-python",
   "name": "python",
   "nbconvert_exporter": "python",
   "pygments_lexer": "ipython3",
   "version": "3.9.6"
  }
 },
 "nbformat": 4,
 "nbformat_minor": 5
}
